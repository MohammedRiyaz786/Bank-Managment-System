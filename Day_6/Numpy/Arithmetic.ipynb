{
 "cells": [
  {
   "cell_type": "code",
   "execution_count": 3,
   "metadata": {},
   "outputs": [
    {
     "name": "stdout",
     "output_type": "stream",
     "text": [
      "[2 3 4 5]\n"
     ]
    }
   ],
   "source": [
    "import numpy as np\n",
    "#Addition\n",
    "var=np.array([1,2,3,4])\n",
    "var_add=var+1\n",
    "print(var_add)"
   ]
  },
  {
   "cell_type": "code",
   "execution_count": 4,
   "metadata": {},
   "outputs": [
    {
     "name": "stdout",
     "output_type": "stream",
     "text": [
      "[2 4 6 8]\n"
     ]
    }
   ],
   "source": [
    "var1=np.array([1,2,3,4])\n",
    "var2=np.array([1,2,3,4])\n",
    "x=var1+var2\n",
    "print(x)"
   ]
  },
  {
   "cell_type": "code",
   "execution_count": 5,
   "metadata": {},
   "outputs": [
    {
     "name": "stdout",
     "output_type": "stream",
     "text": [
      "[10 20 30 40]\n"
     ]
    }
   ],
   "source": [
    "#subtration\n",
    "\n",
    "var1=np.array([11,22,33,44])\n",
    "var2=np.array([1,2,3,4])\n",
    "x=var1-var2\n",
    "print(x)"
   ]
  },
  {
   "cell_type": "code",
   "execution_count": 8,
   "metadata": {},
   "outputs": [
    {
     "name": "stdout",
     "output_type": "stream",
     "text": [
      "[2 0 1 2]\n"
     ]
    }
   ],
   "source": [
    "# divide >>-- reminder\n",
    "\n",
    "var3=np.array([11,27,31,44])\n",
    "new_var=var3%3\n",
    "print(new_var)"
   ]
  },
  {
   "cell_type": "markdown",
   "metadata": {},
   "source": [
    "### 2D"
   ]
  },
  {
   "cell_type": "code",
   "execution_count": 10,
   "metadata": {},
   "outputs": [
    {
     "name": "stdout",
     "output_type": "stream",
     "text": [
      "[[ 5  3  7]\n",
      " [11  8 10]]\n"
     ]
    }
   ],
   "source": [
    "v1=[[1,2,3],[2,3,4]]\n",
    "v2=[[4,1,4],[9,5,6]]\n",
    "v3=np.add(v1,v2)\n",
    "print(v3)"
   ]
  },
  {
   "cell_type": "markdown",
   "metadata": {},
   "source": [
    "### Functions"
   ]
  },
  {
   "cell_type": "code",
   "execution_count": 12,
   "metadata": {},
   "outputs": [
    {
     "name": "stdout",
     "output_type": "stream",
     "text": [
      "min 2 0\n",
      "max 9 6\n",
      "cumsum [ 2  5 10 16 23 31 40]\n"
     ]
    }
   ],
   "source": [
    "var=np.array([2,3,5,6,7,8,9])\n",
    "print(\"min\",np.min(var),np.argmin(var))\n",
    "print(\"max\",np.max(var),np.argmax(var))\n",
    "print(\"cumsum\",np.cumsum(var))"
   ]
  },
  {
   "cell_type": "markdown",
   "metadata": {},
   "source": []
  },
  {
   "cell_type": "code",
   "execution_count": null,
   "metadata": {},
   "outputs": [],
   "source": []
  }
 ],
 "metadata": {
  "kernelspec": {
   "display_name": "Python 3",
   "language": "python",
   "name": "python3"
  },
  "language_info": {
   "codemirror_mode": {
    "name": "ipython",
    "version": 3
   },
   "file_extension": ".py",
   "mimetype": "text/x-python",
   "name": "python",
   "nbconvert_exporter": "python",
   "pygments_lexer": "ipython3",
   "version": "3.10.0"
  }
 },
 "nbformat": 4,
 "nbformat_minor": 2
}
