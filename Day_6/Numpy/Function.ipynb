{
 "cells": [
  {
   "cell_type": "code",
   "execution_count": 2,
   "metadata": {},
   "outputs": [
    {
     "name": "stdout",
     "output_type": "stream",
     "text": [
      "[0.52445303 0.59736103 0.02274747 0.91182388]\n"
     ]
    }
   ],
   "source": [
    "# Rand\n",
    "# generate number btween 0 to 1\n",
    "\n",
    "import numpy as np\n",
    "var=np.random.rand(4)\n",
    "print(var)"
   ]
  },
  {
   "cell_type": "code",
   "execution_count": 3,
   "metadata": {},
   "outputs": [
    {
     "name": "stdout",
     "output_type": "stream",
     "text": [
      "[[0.75013755 0.74593413 0.10282577 0.89589431 0.40765473]\n",
      " [0.17933072 0.97736489 0.1792011  0.40584515 0.16387823]]\n"
     ]
    }
   ],
   "source": [
    "import numpy as np\n",
    "var1=np.random.rand(2,5)\n",
    "print(var1)"
   ]
  },
  {
   "cell_type": "code",
   "execution_count": 4,
   "metadata": {},
   "outputs": [
    {
     "name": "stdout",
     "output_type": "stream",
     "text": [
      "[[0.04056847 0.31371588 0.86844984 0.17156602 0.95849174]\n",
      " [0.34075726 0.4386559  0.23876703 0.14388539 0.06912651]]\n"
     ]
    }
   ],
   "source": [
    "# randn\n",
    "# generate random value close to zero\n",
    "# may return +ve and -ve value\n",
    "\n",
    "var2=np.random.rand(2,5)\n",
    "print(var2)\n"
   ]
  },
  {
   "cell_type": "code",
   "execution_count": 5,
   "metadata": {},
   "outputs": [
    {
     "name": "stdout",
     "output_type": "stream",
     "text": [
      "[0.05624168 0.50295121 0.99830004 0.63098616 0.43149681]\n"
     ]
    }
   ],
   "source": [
    "# ranf\n",
    "# for random sampling [0.0,1)\n",
    "\n",
    "var3=np.random.ranf(5)\n",
    "print(var3)"
   ]
  },
  {
   "cell_type": "code",
   "execution_count": 7,
   "metadata": {},
   "outputs": [
    {
     "name": "stdout",
     "output_type": "stream",
     "text": [
      "[8 5 9 7 3]\n"
     ]
    }
   ],
   "source": [
    "# randint\n",
    "#(min,max,total_num)\n",
    "# can create a range and genereate number between them\n",
    "\n",
    "var5=np.random.randint(2,10,5)\n",
    "print(var5)"
   ]
  },
  {
   "cell_type": "code",
   "execution_count": null,
   "metadata": {},
   "outputs": [],
   "source": []
  }
 ],
 "metadata": {
  "kernelspec": {
   "display_name": "Python 3",
   "language": "python",
   "name": "python3"
  },
  "language_info": {
   "codemirror_mode": {
    "name": "ipython",
    "version": 3
   },
   "file_extension": ".py",
   "mimetype": "text/x-python",
   "name": "python",
   "nbconvert_exporter": "python",
   "pygments_lexer": "ipython3",
   "version": "3.10.0"
  }
 },
 "nbformat": 4,
 "nbformat_minor": 2
}
