{
 "cells": [
  {
   "cell_type": "code",
   "execution_count": 1,
   "metadata": {},
   "outputs": [
    {
     "name": "stdout",
     "output_type": "stream",
     "text": [
      "2\n",
      "4\n",
      "5\n",
      "7\n",
      "8\n",
      "0\n"
     ]
    }
   ],
   "source": [
    "import numpy as np\n",
    "var2=np.array([2,4,5,7,8,0])\n",
    "for i in var2:\n",
    "    print(i)"
   ]
  },
  {
   "cell_type": "code",
   "execution_count": 6,
   "metadata": {},
   "outputs": [
    {
     "name": "stdout",
     "output_type": "stream",
     "text": [
      "[[2 4 5]\n",
      " [7 8 0]]\n",
      "\n",
      "[2 4 5]\n",
      "[7 8 0]\n",
      "\n",
      "2\n",
      "4\n",
      "5\n",
      "7\n",
      "8\n",
      "0\n"
     ]
    }
   ],
   "source": [
    "var2=np.array([[2,4,5],[7,8,0]])\n",
    "\n",
    "print(var2)\n",
    "print()\n",
    "\n",
    "for m in var2:\n",
    "    print(m)\n",
    "print()\n",
    "for j in var2:\n",
    "    for k in j:\n",
    "        print(k)"
   ]
  },
  {
   "cell_type": "code",
   "execution_count": null,
   "metadata": {},
   "outputs": [],
   "source": []
  }
 ],
 "metadata": {
  "kernelspec": {
   "display_name": "Python 3",
   "language": "python",
   "name": "python3"
  },
  "language_info": {
   "codemirror_mode": {
    "name": "ipython",
    "version": 3
   },
   "file_extension": ".py",
   "mimetype": "text/x-python",
   "name": "python",
   "nbconvert_exporter": "python",
   "pygments_lexer": "ipython3",
   "version": "3.10.0"
  }
 },
 "nbformat": 4,
 "nbformat_minor": 2
}
