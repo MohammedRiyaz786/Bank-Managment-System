{
 "cells": [
  {
   "cell_type": "code",
   "execution_count": 1,
   "metadata": {},
   "outputs": [],
   "source": [
    "import re"
   ]
  },
  {
   "cell_type": "code",
   "execution_count": 22,
   "metadata": {},
   "outputs": [
    {
     "name": "stdout",
     "output_type": "stream",
     "text": [
      "['a', 'a', 'a']\n"
     ]
    }
   ],
   "source": [
    "\n",
    "#Return a list containing every occurrence of \"a\":\n",
    "\n",
    "txt = \"KKR was the best team of ipl 2024,  and it lifted the trophy\"\n",
    "x = re.findall(\"a\", txt)\n",
    "print(x)"
   ]
  },
  {
   "cell_type": "code",
   "execution_count": 15,
   "metadata": {},
   "outputs": [
    {
     "name": "stdout",
     "output_type": "stream",
     "text": [
      "['9991118888']\n"
     ]
    }
   ],
   "source": [
    "text='''\n",
    " Elon Musk's phone number is 9991118888, call him if you have any doubt on dogecoin, Tesla revenue's is 40 billion \n",
    " Tesla's CFO number (999)-333-777 \n",
    "'''\n",
    "\n",
    "pattern= '\\d{10}'\n",
    "matches= re.findall(pattern,text)\n",
    "print(matches)\n",
    "# pattern= '\\{2}'\n",
    "# matches= re.findall(pattern,text)\n",
    "# print(matches)"
   ]
  },
  {
   "cell_type": "code",
   "execution_count": 8,
   "metadata": {},
   "outputs": [
    {
     "name": "stdout",
     "output_type": "stream",
     "text": [
      "[' 9991118888', '(999)-333-777 ']\n"
     ]
    }
   ],
   "source": [
    "# if we want to return both number\n",
    "\n",
    "pattern1='\\(\\d{3}\\)-\\d{3}-\\d{3} | \\d{10}'\n",
    "new_matches=re.findall(pattern1,text)\n",
    "print(new_matches)\n"
   ]
  },
  {
   "cell_type": "code",
   "execution_count": 10,
   "metadata": {},
   "outputs": [
    {
     "data": {
      "text/plain": [
       "['Overview', 'Summary of Significant Accounting Policies']"
      ]
     },
     "execution_count": 10,
     "metadata": {},
     "output_type": "execute_result"
    }
   ],
   "source": [
    "text1 = '''\n",
    "Note 1 - Overview\n",
    "Tesla, Inc. (“Tesla”, the “Company”, “we”, “us” or “our”) was incorporated in the State of Delaware on July 1, 2003. We design, develop, manufacture and sell high-performance fully electric vehicles and design, manufacture, install and sell solar energy generation and energy storage\n",
    "products. Our Chief Executive Officer, as the chief operating decision maker (“CODM”), organizes our company, manages resource allocations and measures performance among two operating and reportable segments: (i) automotive and (ii) energy generation and storage.\n",
    "Beginning in the first quarter of 2021, there has been a trend in many parts of the world of increasing availability and administration of vaccines\n",
    "against COVID-19, as well as an easing of restrictions on social, business, travel and government activities and functions. On the other hand, infection\n",
    "rates and regulations continue to fluctuate in various regions and there are ongoing global impacts resulting from the pandemic, including challenges\n",
    "and increases in costs for logistics and supply chains, such as increased port congestion, intermittent supplier delays and a shortfall of semiconductor\n",
    "supply. We have also previously been affected by temporary manufacturing closures, employment and compensation adjustments and impediments to\n",
    "administrative activities supporting our product deliveries and deployments.\n",
    "Note 2 - Summary of Significant Accounting Policies\n",
    "Unaudited Interim Financial Statements\n",
    "The consolidated balance sheet as of September 30, 2021, the consolidated statements of operations, the consolidated statements of\n",
    "comprehensive income, the consolidated statements of redeemable noncontrolling interests and equity for the three and nine months ended September\n",
    "30, 2021 and 2020 and the consolidated statements of cash flows for the nine months ended September 30, 2021 and 2020, as well as other information\n",
    "disclosed in the accompanying notes, are unaudited. The consolidated balance sheet as of December 31, 2020 was derived from the audited\n",
    "consolidated financial statements as of that date. The interim consolidated financial statements and the accompanying notes should be read in\n",
    "conjunction with the annual consolidated financial statements and the accompanying notes contained in our Annual Report on Form 10-K for the year\n",
    "ended December 31, 2020.\n",
    "'''\n",
    "\n",
    "pattern1 = 'Note \\d - ([^\\n]*)'\n",
    "matches1 = re.findall(pattern1, text1)\n",
    "matches1"
   ]
  },
  {
   "cell_type": "markdown",
   "metadata": {},
   "source": [
    "### Extract financial periods from a company's financial reporting"
   ]
  },
  {
   "cell_type": "code",
   "execution_count": 12,
   "metadata": {},
   "outputs": [
    {
     "data": {
      "text/plain": [
       "['FY2021 Q1', 'FY2020 Q4']"
      ]
     },
     "execution_count": 12,
     "metadata": {},
     "output_type": "execute_result"
    }
   ],
   "source": [
    "text = '''\n",
    "The gross cost of operating lease vehicles in FY2021 Q1 was $4.85 billion.\n",
    "In previous quarter i.e. FY2020 Q4 it was $3 billion. \n",
    "'''\n",
    "\n",
    "pattern = 'FY\\d{4} Q[1-4]'\n",
    "matches = re.findall(pattern, text)\n",
    "matches"
   ]
  },
  {
   "cell_type": "markdown",
   "metadata": {},
   "source": [
    "### Extract only financial numbers"
   ]
  },
  {
   "cell_type": "code",
   "execution_count": 16,
   "metadata": {},
   "outputs": [
    {
     "data": {
      "text/plain": [
       "['4.85', '3']"
      ]
     },
     "execution_count": 16,
     "metadata": {},
     "output_type": "execute_result"
    }
   ],
   "source": [
    "text = '''\n",
    "Tesla's gross cost of operating lease vehicles in FY2021 Q1 was $4.85 billion. \n",
    "In previous quarter i.e. FY2020 Q4 it was $3 billion.\n",
    "'''\n",
    "\n",
    "pattern = '\\$([0-9\\.]+)'\n",
    "matches = re.findall(pattern, text)\n",
    "matches"
   ]
  },
  {
   "cell_type": "markdown",
   "metadata": {},
   "source": [
    "### Extract periods and financial numbers both"
   ]
  },
  {
   "cell_type": "code",
   "execution_count": 17,
   "metadata": {},
   "outputs": [
    {
     "data": {
      "text/plain": [
       "[('2021 Q1', '4.85'), ('2020 Q4', '3')]"
      ]
     },
     "execution_count": 17,
     "metadata": {},
     "output_type": "execute_result"
    }
   ],
   "source": [
    "text = '''\n",
    "Tesla's gross cost of operating lease vehicles in FY2021 Q1 was $4.85 billion. \n",
    "In previous quarter i.e. FY2020 Q4 it was $3 billion.\n",
    "'''\n",
    "pattern = 'FY(\\d{4} Q[1-4])[^\\$]+\\$([0-9\\.]+)'\n",
    "\n",
    "matches = re.findall(pattern, text)\n",
    "matches"
   ]
  },
  {
   "cell_type": "code",
   "execution_count": 18,
   "metadata": {},
   "outputs": [
    {
     "name": "stdout",
     "output_type": "stream",
     "text": [
      "<re.Match object; span=(0, 1), match='F'>\n",
      "<re.Match object; span=(13, 14), match='.'>\n"
     ]
    }
   ],
   "source": [
    "import re \n",
    "\n",
    "s = 'Fast and the .Furious'\n",
    "\n",
    "# without using \\ \n",
    "match = re.search(r'.', s) \n",
    "print(match) \n",
    "\n",
    "# using \\ \n",
    "match = re.search(r'\\.', s) \n",
    "print(match) \n"
   ]
  },
  {
   "cell_type": "code",
   "execution_count": 19,
   "metadata": {},
   "outputs": [
    {
     "name": "stdout",
     "output_type": "stream",
     "text": [
      "['h', 'e', 'i', 'c', 'k', 'b', 'f', 'j', 'm', 'e', 'h', 'e', 'l', 'a', 'd', 'g']\n"
     ]
    }
   ],
   "source": [
    "# [a-z] single charector of a b or c\n",
    "\n",
    "import re \n",
    "  \n",
    "string = \"The quick brown fox jumps over the lazy dog\"\n",
    "pattern = \"[a-m]\"\n",
    "result = re.findall(pattern, string) \n",
    "  \n",
    "print(result)"
   ]
  },
  {
   "cell_type": "code",
   "execution_count": null,
   "metadata": {},
   "outputs": [],
   "source": []
  }
 ],
 "metadata": {
  "kernelspec": {
   "display_name": "Python 3",
   "language": "python",
   "name": "python3"
  },
  "language_info": {
   "codemirror_mode": {
    "name": "ipython",
    "version": 3
   },
   "file_extension": ".py",
   "mimetype": "text/x-python",
   "name": "python",
   "nbconvert_exporter": "python",
   "pygments_lexer": "ipython3",
   "version": "3.10.0"
  }
 },
 "nbformat": 4,
 "nbformat_minor": 2
}
