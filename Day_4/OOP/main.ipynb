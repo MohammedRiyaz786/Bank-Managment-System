{
 "cells": [
  {
   "cell_type": "code",
   "execution_count": 3,
   "metadata": {},
   "outputs": [],
   "source": [
    "# class and object\n",
    "\n",
    "class Movie:\n",
    "    def Action(self):\n",
    "        print(\"This is action movie\")"
   ]
  },
  {
   "cell_type": "code",
   "execution_count": 4,
   "metadata": {},
   "outputs": [
    {
     "name": "stdout",
     "output_type": "stream",
     "text": [
      "This is action movie\n"
     ]
    }
   ],
   "source": [
    "# callling using object\n",
    "m=Movie()\n",
    "m.Action()"
   ]
  },
  {
   "cell_type": "code",
   "execution_count": 7,
   "metadata": {},
   "outputs": [],
   "source": [
    "## The __init__ method\n",
    "\n",
    "class RiyazSkills:\n",
    "    def __init__(self,course,duration,mentor) :\n",
    "        self.course=course\n",
    "        self.duration=duration\n",
    "        self.mentor=mentor\n",
    "    def course(self):\n",
    "\n",
    "        print(\"print mentor name\",self.mentor)\n",
    "        "
   ]
  },
  {
   "cell_type": "code",
   "execution_count": 8,
   "metadata": {},
   "outputs": [],
   "source": [
    "DSA=RiyazSkills(\"Hashtable\",5,\"RiyAZ\")\n",
    "ML=RiyazSkills(\"Regression\",2,\"Mohammed_Riyaz\")"
   ]
  },
  {
   "cell_type": "code",
   "execution_count": 25,
   "metadata": {},
   "outputs": [
    {
     "name": "stdout",
     "output_type": "stream",
     "text": [
      "print mentor name RiyAZ\n"
     ]
    }
   ],
   "source": [
    "DSA.show_mentor()"
   ]
  },
  {
   "cell_type": "code",
   "execution_count": 26,
   "metadata": {},
   "outputs": [
    {
     "name": "stdout",
     "output_type": "stream",
     "text": [
      "print mentor name Mohammed_Riyaz\n"
     ]
    }
   ],
   "source": [
    "ML.show_mentor()"
   ]
  },
  {
   "cell_type": "code",
   "execution_count": 13,
   "metadata": {},
   "outputs": [
    {
     "data": {
      "text/plain": [
       "'Hashtable'"
      ]
     },
     "execution_count": 13,
     "metadata": {},
     "output_type": "execute_result"
    }
   ],
   "source": [
    "DSA.course\n"
   ]
  },
  {
   "cell_type": "code",
   "execution_count": 12,
   "metadata": {},
   "outputs": [
    {
     "data": {
      "text/plain": [
       "'Regression'"
      ]
     },
     "execution_count": 12,
     "metadata": {},
     "output_type": "execute_result"
    }
   ],
   "source": [
    "ML.course\n",
    "\n"
   ]
  },
  {
   "cell_type": "markdown",
   "metadata": {},
   "source": [
    "### Inheritance"
   ]
  },
  {
   "cell_type": "code",
   "execution_count": 27,
   "metadata": {},
   "outputs": [],
   "source": [
    "class Bank:\n",
    "    def Deposit(self):\n",
    "        print(\"Money is Deposited\")"
   ]
  },
  {
   "cell_type": "code",
   "execution_count": 28,
   "metadata": {},
   "outputs": [],
   "source": [
    "class SBI(Bank):\n",
    "    pass"
   ]
  },
  {
   "cell_type": "code",
   "execution_count": 30,
   "metadata": {},
   "outputs": [
    {
     "name": "stdout",
     "output_type": "stream",
     "text": [
      "Money is Deposited\n"
     ]
    }
   ],
   "source": [
    "s=SBI()\n",
    "s.Deposit()"
   ]
  },
  {
   "cell_type": "code",
   "execution_count": 39,
   "metadata": {},
   "outputs": [],
   "source": [
    "class mentor:\n",
    "    def __init__(self,mentor_name,mentor_email,mentor_contact):\n",
    "        self.mentor_name=mentor_name\n",
    "        self.mentor_email=mentor_email\n",
    "        self.mentor_contact=mentor_contact\n",
    "    def mentor_details(self):\n",
    "        print(self.mentor_name,self.mentor_contact,self.mentor_contact)"
   ]
  },
  {
   "cell_type": "code",
   "execution_count": 40,
   "metadata": {},
   "outputs": [],
   "source": [
    "class student(mentor):\n",
    "    def student_fun(self):\n",
    "        print('this is student class which is inheriting mentor')"
   ]
  },
  {
   "cell_type": "code",
   "execution_count": 41,
   "metadata": {},
   "outputs": [],
   "source": [
    "obj_student=student(\"Mohammed Riyaz\",'785syedshoaib@gmail.com',123413)"
   ]
  },
  {
   "cell_type": "code",
   "execution_count": 42,
   "metadata": {},
   "outputs": [
    {
     "data": {
      "text/plain": [
       "123413"
      ]
     },
     "execution_count": 42,
     "metadata": {},
     "output_type": "execute_result"
    }
   ],
   "source": [
    "obj_student.mentor_contact"
   ]
  },
  {
   "cell_type": "markdown",
   "metadata": {},
   "source": [
    "### Method Overriding"
   ]
  },
  {
   "cell_type": "code",
   "execution_count": 47,
   "metadata": {},
   "outputs": [],
   "source": [
    "class xyz:\n",
    "    def test(self):\n",
    "        print('This is parent class')\n",
    "\n",
    "class wxy(xyz):\n",
    "    def test(self):\n",
    "        super().test()\n",
    "        print('This is child class')"
   ]
  },
  {
   "cell_type": "code",
   "execution_count": 48,
   "metadata": {},
   "outputs": [
    {
     "name": "stdout",
     "output_type": "stream",
     "text": [
      "This is parent class\n",
      "This is child class\n"
     ]
    }
   ],
   "source": [
    "c1=wxy()\n",
    "c1.test()"
   ]
  },
  {
   "cell_type": "markdown",
   "metadata": {},
   "source": [
    "### Inheritance Type"
   ]
  },
  {
   "cell_type": "code",
   "execution_count": 52,
   "metadata": {},
   "outputs": [],
   "source": [
    "# Multiple Inheritance\n",
    "\n",
    "class c1:\n",
    "    def devops(self):\n",
    "        print(\"this is devops class\")\n",
    "\n",
    "class c2(c1):\n",
    "    def jerkins():\n",
    "        print(\"this is jerkins class\")\n",
    "\n",
    "class  c3(c1):\n",
    "    def git():\n",
    "        print(\"this is git class\")"
   ]
  },
  {
   "cell_type": "code",
   "execution_count": 53,
   "metadata": {},
   "outputs": [],
   "source": [
    "obj_c2=c2()\n",
    "obj_c3=c3()"
   ]
  },
  {
   "cell_type": "code",
   "execution_count": 54,
   "metadata": {},
   "outputs": [
    {
     "name": "stdout",
     "output_type": "stream",
     "text": [
      "this is devops class\n"
     ]
    }
   ],
   "source": [
    "obj_c2.devops()"
   ]
  },
  {
   "cell_type": "markdown",
   "metadata": {},
   "source": [
    "### here i am able to acces c1 class using c2 and c3 class"
   ]
  },
  {
   "cell_type": "code",
   "execution_count": 55,
   "metadata": {},
   "outputs": [],
   "source": [
    "# Multiclass Inheritance\n",
    "\n",
    "class c1:\n",
    "    def math_c1(self):\n",
    "        print(\"this is part of c1\")\n",
    "class c2:\n",
    "    def sdlc_c2(self):\n",
    "        print(\"this is sdlc class\")\n",
    "\n",
    "class c3(c1,c2):\n",
    "    def dsa(self):\n",
    "        print(\"this is inherting both class\")"
   ]
  },
  {
   "cell_type": "code",
   "execution_count": 57,
   "metadata": {},
   "outputs": [
    {
     "name": "stdout",
     "output_type": "stream",
     "text": [
      "this is part of c1\n"
     ]
    }
   ],
   "source": [
    "obj_c3=c3()\n",
    "obj_c3.math_c1()"
   ]
  },
  {
   "cell_type": "markdown",
   "metadata": {},
   "source": [
    "### Polymorphisim"
   ]
  },
  {
   "cell_type": "code",
   "execution_count": 66,
   "metadata": {},
   "outputs": [],
   "source": [
    "class dsm:\n",
    "    def test(self):\n",
    "        print(\"this is java class\")\n",
    "class mth:\n",
    "    def test(self):\n",
    "        print(\"this is web dev class\")\n",
    "\n",
    "def test_meth(x):\n",
    "    x.test()"
   ]
  },
  {
   "cell_type": "code",
   "execution_count": 68,
   "metadata": {},
   "outputs": [],
   "source": [
    "obj_dsm=dsm()\n",
    "obj_mth=mth()"
   ]
  },
  {
   "cell_type": "code",
   "execution_count": 69,
   "metadata": {},
   "outputs": [
    {
     "name": "stdout",
     "output_type": "stream",
     "text": [
      "this is java class\n"
     ]
    }
   ],
   "source": [
    "test_meth(obj_dsm)"
   ]
  },
  {
   "cell_type": "code",
   "execution_count": 70,
   "metadata": {},
   "outputs": [
    {
     "name": "stdout",
     "output_type": "stream",
     "text": [
      "this is web dev class\n"
     ]
    }
   ],
   "source": [
    "test_meth(obj_mth)"
   ]
  },
  {
   "cell_type": "markdown",
   "metadata": {},
   "source": [
    "### Encapsulation"
   ]
  },
  {
   "cell_type": "code",
   "execution_count": 83,
   "metadata": {},
   "outputs": [
    {
     "name": "stdout",
     "output_type": "stream",
     "text": [
      "{'revenue': 10000, 'number_of_sales': 114}\n",
      "{'revenue': 1, 'number_of_sales': 114}\n"
     ]
    }
   ],
   "source": [
    "class Finance:\n",
    "    def __init__(self):\n",
    "        self.revenue=10000\n",
    "        self.number_of_sales=114\n",
    "\n",
    "\n",
    "    \n",
    "\n",
    "f1=Finance()\n",
    "\n",
    "print(f1.__dict__)\n",
    "\n",
    "class HR:\n",
    "    def __init__(self):\n",
    "        self.number_of_employee=32\n",
    "        f1.revenue=1\n",
    "\n",
    "\n",
    "h1=HR()\n",
    "print(f1.__dict__)\n",
    "        \n"
   ]
  },
  {
   "cell_type": "markdown",
   "metadata": {},
   "source": [
    "#### here hr department can update the data from finance department so encapsulations compes in picture"
   ]
  },
  {
   "cell_type": "markdown",
   "metadata": {},
   "source": [
    "# Acces modifiers\n",
    ">>public\n",
    ">> private\n",
    ">> protected\n"
   ]
  },
  {
   "cell_type": "code",
   "execution_count": 93,
   "metadata": {},
   "outputs": [],
   "source": [
    "class Finance:\n",
    "    def __init__(self):\n",
    "        self.__revenue=10000 #private data\n",
    "        self.__number_of_sales=114\n",
    "\n",
    "    def display(self):\n",
    "    \n",
    "        print(f\"revenue is {self.__revenue} and number of sales is {self.__number_of_sales}\")\n",
    "        self.__revenue=2000\n",
    "        print(f\"revenue is {self.__revenue} and number of sales is {self.__number_of_sales}\")\n",
    "\n",
    "\n",
    "f1=Finance()\n"
   ]
  },
  {
   "cell_type": "code",
   "execution_count": 94,
   "metadata": {},
   "outputs": [
    {
     "name": "stdout",
     "output_type": "stream",
     "text": [
      "revenue is 10000 and number of sales is 114\n",
      "revenue is 2000 and number of sales is 114\n"
     ]
    }
   ],
   "source": [
    "f1.display()"
   ]
  },
  {
   "cell_type": "code",
   "execution_count": 95,
   "metadata": {},
   "outputs": [
    {
     "name": "stdout",
     "output_type": "stream",
     "text": [
      "2000\n"
     ]
    }
   ],
   "source": [
    "# name mangling\n",
    "print(f1._Finance__revenue)"
   ]
  },
  {
   "cell_type": "markdown",
   "metadata": {},
   "source": [
    "### Abstraction"
   ]
  },
  {
   "cell_type": "code",
   "execution_count": 97,
   "metadata": {},
   "outputs": [],
   "source": [
    "from abc import ABC, abstractmethod\n",
    "class Bankapp(ABC):\n",
    "\n",
    "    def database(self):\n",
    "        print('connected to database')\n",
    "\n",
    "    @abstractmethod\n",
    "    def security(self):\n",
    "        pass"
   ]
  },
  {
   "cell_type": "code",
   "execution_count": 98,
   "metadata": {},
   "outputs": [],
   "source": [
    "class MobileApp(Bankapp):\n",
    "\n",
    "    def mobile_login(self):\n",
    "        print('loggin into mobile')\n",
    "\n",
    "    def security(self):\n",
    "        print('mobile security')"
   ]
  },
  {
   "cell_type": "code",
   "execution_count": 99,
   "metadata": {},
   "outputs": [
    {
     "name": "stdout",
     "output_type": "stream",
     "text": [
      "mobile security\n"
     ]
    }
   ],
   "source": [
    "mob = MobileApp()\n",
    "mob.security()"
   ]
  },
  {
   "cell_type": "code",
   "execution_count": null,
   "metadata": {},
   "outputs": [],
   "source": []
  },
  {
   "cell_type": "code",
   "execution_count": null,
   "metadata": {},
   "outputs": [],
   "source": []
  },
  {
   "cell_type": "code",
   "execution_count": null,
   "metadata": {},
   "outputs": [],
   "source": []
  },
  {
   "cell_type": "code",
   "execution_count": null,
   "metadata": {},
   "outputs": [],
   "source": []
  },
  {
   "cell_type": "code",
   "execution_count": null,
   "metadata": {},
   "outputs": [],
   "source": []
  }
 ],
 "metadata": {
  "kernelspec": {
   "display_name": "Python 3",
   "language": "python",
   "name": "python3"
  },
  "language_info": {
   "codemirror_mode": {
    "name": "ipython",
    "version": 3
   },
   "file_extension": ".py",
   "mimetype": "text/x-python",
   "name": "python",
   "nbconvert_exporter": "python",
   "pygments_lexer": "ipython3",
   "version": "3.10.0"
  }
 },
 "nbformat": 4,
 "nbformat_minor": 2
}
