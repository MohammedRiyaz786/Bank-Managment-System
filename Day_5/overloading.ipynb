{
 "cells": [
  {
   "cell_type": "code",
   "execution_count": 3,
   "metadata": {},
   "outputs": [],
   "source": [
    "class A:\n",
    "    def find_area(self,x=None,y=None):\n",
    "        if x!=None and y!=None:\n",
    "            print(x*y)\n",
    "        elif x!=None:\n",
    "            print(x*x)\n",
    "        else:\n",
    "            print(\"return Nothing\")"
   ]
  },
  {
   "cell_type": "code",
   "execution_count": 4,
   "metadata": {},
   "outputs": [
    {
     "name": "stdout",
     "output_type": "stream",
     "text": [
      "return Nothing\n",
      "12\n",
      "9\n"
     ]
    }
   ],
   "source": [
    "obj_A=A()\n",
    "obj_A.find_area()\n",
    "obj_A.find_area(3,4)\n",
    "obj_A.find_area(3)"
   ]
  },
  {
   "cell_type": "code",
   "execution_count": null,
   "metadata": {},
   "outputs": [],
   "source": [
    "try:\n",
    "    rs=10/0\n",
    "except ZeroDivisionError"
   ]
  }
 ],
 "metadata": {
  "kernelspec": {
   "display_name": "Python 3",
   "language": "python",
   "name": "python3"
  },
  "language_info": {
   "codemirror_mode": {
    "name": "ipython",
    "version": 3
   },
   "file_extension": ".py",
   "mimetype": "text/x-python",
   "name": "python",
   "nbconvert_exporter": "python",
   "pygments_lexer": "ipython3",
   "version": "3.10.0"
  }
 },
 "nbformat": 4,
 "nbformat_minor": 2
}
